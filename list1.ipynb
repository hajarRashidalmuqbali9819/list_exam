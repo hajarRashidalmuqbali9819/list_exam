{
 "cells": [
  {
   "cell_type": "markdown",
   "metadata": {},
   "source": [
    "# list"
   ]
  },
  {
   "cell_type": "code",
   "execution_count": 6,
   "metadata": {},
   "outputs": [
    {
     "name": "stdout",
     "output_type": "stream",
     "text": [
      "['Ali', 'Ahmed', 'Nasser']\n"
     ]
    }
   ],
   "source": [
    "student = ['Ali','Ahmed','Nasser']\n",
    "print(student)"
   ]
  },
  {
   "cell_type": "markdown",
   "metadata": {},
   "source": [
    "# Using"
   ]
  },
  {
   "cell_type": "code",
   "execution_count": 7,
   "metadata": {},
   "outputs": [
    {
     "name": "stdout",
     "output_type": "stream",
     "text": [
      "['Ali', 'Ahmed', 'Nasser']\n"
     ]
    }
   ],
   "source": [
    "student = list(('Ali','Ahmed','Nasser'))\n",
    "print(student)"
   ]
  },
  {
   "cell_type": "markdown",
   "metadata": {},
   "source": [
    "# lenght"
   ]
  },
  {
   "cell_type": "code",
   "execution_count": 5,
   "metadata": {},
   "outputs": [
    {
     "name": "stdout",
     "output_type": "stream",
     "text": [
      "3\n"
     ]
    }
   ],
   "source": [
    "x= len (student)\n",
    "print(x)"
   ]
  },
  {
   "cell_type": "markdown",
   "metadata": {},
   "source": [
    "# index"
   ]
  },
  {
   "cell_type": "code",
   "execution_count": 8,
   "metadata": {},
   "outputs": [
    {
     "name": "stdout",
     "output_type": "stream",
     "text": [
      "Ali\n"
     ]
    }
   ],
   "source": [
    "student = ['Ali','Ahmed','Nasser']\n",
    "print (student[0])"
   ]
  },
  {
   "cell_type": "markdown",
   "metadata": {},
   "source": [
    "# Allow repetitions"
   ]
  },
  {
   "cell_type": "code",
   "execution_count": 9,
   "metadata": {},
   "outputs": [
    {
     "name": "stdout",
     "output_type": "stream",
     "text": [
      "['Ali', 'Ahmed', 'Ali', 'Nasser']\n"
     ]
    }
   ],
   "source": [
    "student = ['Ali','Ahmed','Ali','Nasser']\n",
    "print (student)"
   ]
  },
  {
   "cell_type": "markdown",
   "metadata": {},
   "source": [
    "# type"
   ]
  },
  {
   "cell_type": "code",
   "execution_count": 10,
   "metadata": {},
   "outputs": [
    {
     "name": "stdout",
     "output_type": "stream",
     "text": [
      "<class 'list'>\n"
     ]
    }
   ],
   "source": [
    "student= ['Ali','Ahmed','Nasser']\n",
    "print (type(student))"
   ]
  },
  {
   "cell_type": "markdown",
   "metadata": {},
   "source": [
    "# Reverse order index"
   ]
  },
  {
   "cell_type": "code",
   "execution_count": 13,
   "metadata": {},
   "outputs": [
    {
     "name": "stdout",
     "output_type": "stream",
     "text": [
      "Nasser\n"
     ]
    }
   ],
   "source": [
    "student = ['Ali','Ahmed','Nasser']\n",
    "print(student[-1])"
   ]
  },
  {
   "cell_type": "markdown",
   "metadata": {},
   "source": [
    "# Range of indexes"
   ]
  },
  {
   "cell_type": "code",
   "execution_count": 15,
   "metadata": {},
   "outputs": [
    {
     "name": "stdout",
     "output_type": "stream",
     "text": [
      "['Ahmed']\n",
      "['Ali', 'Ahmed']\n",
      "['Ali', 'Ahmed', 'Nasser']\n"
     ]
    }
   ],
   "source": [
    "student = ['Ali','Ahmed','Nasser']\n",
    "print(student[1:2])\n",
    "print(student[:2])\n",
    "print(student[0:])"
   ]
  },
  {
   "cell_type": "markdown",
   "metadata": {},
   "source": [
    "# checing if an item exists"
   ]
  },
  {
   "cell_type": "code",
   "execution_count": 18,
   "metadata": {},
   "outputs": [
    {
     "name": "stdout",
     "output_type": "stream",
     "text": [
      "True\n",
      "False\n"
     ]
    }
   ],
   "source": [
    "student = ['Ali','Ahmed','Nasser']\n",
    "x = 'Ali' in student\n",
    "print(x)\n",
    "x = 'ali' in student\n",
    "print (x)"
   ]
  },
  {
   "cell_type": "markdown",
   "metadata": {},
   "source": [
    "# change list"
   ]
  },
  {
   "cell_type": "code",
   "execution_count": 19,
   "metadata": {},
   "outputs": [
    {
     "name": "stdout",
     "output_type": "stream",
     "text": [
      "list befor change :  ['Ali', 'Ahmed', 'Nasser']\n",
      "list after change :  ['abdalha', 'Ahmed', 'Nasser']\n"
     ]
    }
   ],
   "source": [
    "student = ['Ali','Ahmed','Nasser']\n",
    "print ('list befor change : ' , student)\n",
    "student [0] = 'abdalha'\n",
    "print('list after change : ' , student)\n"
   ]
  },
  {
   "cell_type": "markdown",
   "metadata": {},
   "source": [
    "# insert items"
   ]
  },
  {
   "cell_type": "code",
   "execution_count": 24,
   "metadata": {},
   "outputs": [
    {
     "name": "stdout",
     "output_type": "stream",
     "text": [
      "list befor change :  ['Ali', 'Ahmed', 'Nasser']\n",
      "list after change:  ['Ali', 'Ahmed', 'Hajar', 'Nasser']\n"
     ]
    }
   ],
   "source": [
    "student = ['Ali','Ahmed','Nasser']\n",
    "print ('list befor change : ' , student)\n",
    "student.insert(2, 'Hajar')\n",
    "print ('list after change: ' ,student)"
   ]
  },
  {
   "cell_type": "markdown",
   "metadata": {},
   "source": [
    "# append item"
   ]
  },
  {
   "cell_type": "code",
   "execution_count": 25,
   "metadata": {},
   "outputs": [
    {
     "name": "stdout",
     "output_type": "stream",
     "text": [
      "list befor change :  ['Ali', 'Ahmed', 'Nasser']\n",
      "list after change:  ['Ali', 'Ahmed', 'Nasser', 'Hajar']\n"
     ]
    }
   ],
   "source": [
    "student = ['Ali','Ahmed','Nasser']\n",
    "print ('list befor change : ' , student)\n",
    "student.append( 'Hajar')\n",
    "print ('list after change: ' ,student)"
   ]
  },
  {
   "cell_type": "markdown",
   "metadata": {},
   "source": [
    "# extend "
   ]
  },
  {
   "cell_type": "code",
   "execution_count": 28,
   "metadata": {},
   "outputs": [
    {
     "name": "stdout",
     "output_type": "stream",
     "text": [
      "list after chang : ['Ali', 'Ahmed', 'Nasser', 'Hajar', 'sara']\n"
     ]
    }
   ],
   "source": [
    "student = ['Ali','Ahmed','Nasser']\n",
    "new = ['Hajar','sara']\n",
    "student.extend(new)\n",
    "print ('list after chang :', student)"
   ]
  },
  {
   "cell_type": "markdown",
   "metadata": {},
   "source": [
    "# Remove "
   ]
  },
  {
   "cell_type": "code",
   "execution_count": 29,
   "metadata": {},
   "outputs": [
    {
     "name": "stdout",
     "output_type": "stream",
     "text": [
      "list befor change : ['Ali', 'Ahmed', 'Nasser']\n",
      "list after change: ['Ahmed', 'Nasser']\n"
     ]
    }
   ],
   "source": [
    "student = ['Ali','Ahmed','Nasser']\n",
    "print ( 'list befor change :' , student)\n",
    "student.remove('Ali')\n",
    "print('list after change:', student)"
   ]
  }
 ],
 "metadata": {
  "kernelspec": {
   "display_name": "Python 3",
   "language": "python",
   "name": "python3"
  },
  "language_info": {
   "codemirror_mode": {
    "name": "ipython",
    "version": 3
   },
   "file_extension": ".py",
   "mimetype": "text/x-python",
   "name": "python",
   "nbconvert_exporter": "python",
   "pygments_lexer": "ipython3",
   "version": "3.10.8"
  }
 },
 "nbformat": 4,
 "nbformat_minor": 2
}
